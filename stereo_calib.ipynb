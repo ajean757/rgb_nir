{
 "cells": [
  {
   "cell_type": "code",
   "execution_count": null,
   "metadata": {},
   "outputs": [],
   "source": [
    "import cv2\n",
    "import numpy as np\n",
    "import glob\n",
    "import os\n",
    "import matplotlib.pyplot as plt\n",
    "import random\n"
   ]
  },
  {
   "cell_type": "code",
   "execution_count": null,
   "metadata": {},
   "outputs": [],
   "source": [
    "def load_calibration(calib_file):\n",
    "    \"\"\"Loads stereo calibration parameters from an .npz file.\"\"\"\n",
    "    with np.load(calib_file) as data:\n",
    "        map1x = data['map1x']\n",
    "        map1y = data['map1y']\n",
    "        map2x = data['map2x']\n",
    "        map2y = data['map2y']\n",
    "        Q = data['Q']\n",
    "    \n",
    "    return map1x, map1y, map2x, map2y, Q\n",
    "\n",
    "def rectify_stereo_pair(img0, img1, map1x, map1y, map2x, map2y):\n",
    "    \"\"\"\n",
    "    Takes a new stereo pair (img0, img1), rectifies them using the provided maps,\n",
    "    and returns the undistorted, rectified pair.\n",
    "    \"\"\"\n",
    "    rect0 = cv2.remap(img0, map1x, map1y, cv2.INTER_LINEAR)\n",
    "    rect1 = cv2.remap(img1, map2x, map2y, cv2.INTER_LINEAR)\n",
    "    return rect0, rect1"
   ]
  },
  {
   "cell_type": "code",
   "execution_count": null,
   "metadata": {},
   "outputs": [],
   "source": [
    "map1x, map1y, map2x, map2y, Q = load_calibration(\"calib.npz\")\n",
    "\n",
    "ir_images = [] # Right camera\n",
    "rgb_images = [] # Left camera\n",
    "directory = \"./new_calib_data\"\n",
    "for filename in os.listdir(directory):\n",
    "    if filename.endswith(\"_ir.jpg\"):\n",
    "        ir_images.append(os.path.join(directory, filename))\n",
    "    elif filename.endswith(\"_rgb.jpg\"):\n",
    "        rgb_images.append(os.path.join(directory, filename))\n",
    "ir_images.sort()\n",
    "rgb_images.sort()\n",
    "print(\"IR images: \", ir_images)\n",
    "print(\"RGB images: \", rgb_images)\n",
    "rand_indx = random.randint(0, len(ir_images)-1)\n",
    "img0 = cv2.imread(ir_images[rand_indx])\n",
    "img1 = cv2.imread(rgb_images[rand_indx])\n",
    "\n",
    "rectified0, rectified1 = rectify_stereo_pair(img0, img1, map1x, map1y, map2x, map2y)\n",
    "\n",
    "cv2.imwrite(\"rectified_ir.jpg\", rectified0)\n",
    "cv2.imwrite(\"rectified_rgb.jpg\", rectified1)"
   ]
  },
  {
   "cell_type": "code",
   "execution_count": null,
   "metadata": {},
   "outputs": [],
   "source": [
    "# Load rectified images\n",
    "left_img = cv2.imread(\"rectified_rgb.jpg\")\n",
    "right_img = cv2.imread(\"rectified_ir.jpg\")\n",
    "\n",
    "# Convert to grayscale for easier visual comparison\n",
    "gray_left = cv2.cvtColor(left_img, cv2.COLOR_BGR2GRAY)\n",
    "gray_right = cv2.cvtColor(right_img, cv2.COLOR_BGR2GRAY)\n",
    "\n",
    "# Display images side by side\n",
    "plt.figure(figsize=(12, 6))\n",
    "plt.subplot(1, 2, 1)\n",
    "plt.imshow(gray_left, cmap=\"gray\")\n",
    "plt.title(\"Rectified Left Image\")\n",
    "plt.axis(\"off\")\n",
    "\n",
    "plt.subplot(1, 2, 2)\n",
    "plt.imshow(gray_right, cmap=\"gray\")\n",
    "plt.title(\"Rectified Right Image\")\n",
    "plt.axis(\"off\")\n",
    "\n",
    "plt.show()"
   ]
  },
  {
   "cell_type": "code",
   "execution_count": null,
   "metadata": {},
   "outputs": [],
   "source": [
    "def draw_epipolar_lines(img1, img2, num_lines=10):\n",
    "    h, w = img1.shape[:2]\n",
    "    step = h // num_lines  # Spacing between lines\n",
    "\n",
    "    img1_lines = img1.copy()\n",
    "    img2_lines = img2.copy()\n",
    "\n",
    "    for i in range(0, h, step):\n",
    "        cv2.line(img1_lines, (0, i), (w, i), (0, 255, 0), 1)\n",
    "        cv2.line(img2_lines, (0, i), (w, i), (0, 255, 0), 1)\n",
    "\n",
    "    plt.figure(figsize=(12, 6))\n",
    "    plt.subplot(1, 2, 1)\n",
    "    plt.imshow(cv2.cvtColor(img1_lines, cv2.COLOR_BGR2RGB))\n",
    "    plt.title(\"Left Image with Epipolar Lines\")\n",
    "    plt.axis(\"off\")\n",
    "\n",
    "    plt.subplot(1, 2, 2)\n",
    "    plt.imshow(cv2.cvtColor(img2_lines, cv2.COLOR_BGR2RGB))\n",
    "    plt.title(\"Right Image with Epipolar Lines\")\n",
    "    plt.axis(\"off\")\n",
    "\n",
    "    plt.show()\n",
    "\n",
    "# Load rectified images\n",
    "left_img = cv2.imread(\"rectified_rgb.jpg\")\n",
    "right_img = cv2.imread(\"rectified_ir.jpg\")\n",
    "\n",
    "draw_epipolar_lines(left_img, right_img)\n"
   ]
  },
  {
   "cell_type": "code",
   "execution_count": null,
   "metadata": {},
   "outputs": [],
   "source": [
    "stereo = cv2.StereoSGBM_create(\n",
    "    minDisparity=0, numDisparities=64, blockSize=9\n",
    ")\n",
    "disparity = stereo.compute(gray_left, gray_right).astype(np.float32) / 16.0\n",
    "\n",
    "plt.figure(figsize=(10, 6))\n",
    "plt.imshow(disparity, cmap='jet')\n",
    "plt.colorbar()\n",
    "plt.title(\"Disparity Map\")\n",
    "plt.axis(\"off\")\n",
    "plt.show()"
   ]
  }
 ],
 "metadata": {
  "kernelspec": {
   "display_name": "rgbnir_env",
   "language": "python",
   "name": "python3"
  },
  "language_info": {
   "codemirror_mode": {
    "name": "ipython",
    "version": 3
   },
   "file_extension": ".py",
   "mimetype": "text/x-python",
   "name": "python",
   "nbconvert_exporter": "python",
   "pygments_lexer": "ipython3",
   "version": "3.11.2"
  }
 },
 "nbformat": 4,
 "nbformat_minor": 2
}
